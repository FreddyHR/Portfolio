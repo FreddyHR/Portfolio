{
 "cells": [
  {
   "cell_type": "markdown",
   "id": "711e4b1f-d52a-47cd-900b-26c1487a3a0a",
   "metadata": {},
   "source": [
    "## Kafka Consumer"
   ]
  },
  {
   "cell_type": "markdown",
   "id": "95590b52-da6d-4d62-9c10-7ce2da4e9b38",
   "metadata": {},
   "source": [
    "#### Installing packages:"
   ]
  },
  {
   "cell_type": "code",
   "execution_count": 1,
   "id": "d0fb91f0-1761-4bbb-9669-372fdad4e253",
   "metadata": {},
   "outputs": [
    {
     "name": "stdout",
     "output_type": "stream",
     "text": [
      "Requirement already satisfied: kafka-python in /Library/Frameworks/Python.framework/Versions/3.10/lib/python3.10/site-packages (2.0.2)\n",
      "Note: you may need to restart the kernel to use updated packages.\n"
     ]
    }
   ],
   "source": [
    "pip install kafka-python"
   ]
  },
  {
   "cell_type": "code",
   "execution_count": 2,
   "id": "c01fb0f6-9dab-4735-9ae0-0c7e861baaff",
   "metadata": {},
   "outputs": [
    {
     "name": "stdout",
     "output_type": "stream",
     "text": [
      "Requirement already satisfied: s3fs in /Library/Frameworks/Python.framework/Versions/3.10/lib/python3.10/site-packages (2023.6.0)\n",
      "Requirement already satisfied: aiobotocore~=2.5.0 in /Library/Frameworks/Python.framework/Versions/3.10/lib/python3.10/site-packages (from s3fs) (2.5.2)\n",
      "Requirement already satisfied: fsspec==2023.6.0 in /Library/Frameworks/Python.framework/Versions/3.10/lib/python3.10/site-packages (from s3fs) (2023.6.0)\n",
      "Requirement already satisfied: aiohttp!=4.0.0a0,!=4.0.0a1 in /Library/Frameworks/Python.framework/Versions/3.10/lib/python3.10/site-packages (from s3fs) (3.8.5)\n",
      "Requirement already satisfied: botocore<1.29.162,>=1.29.161 in /Library/Frameworks/Python.framework/Versions/3.10/lib/python3.10/site-packages (from aiobotocore~=2.5.0->s3fs) (1.29.161)\n",
      "Requirement already satisfied: wrapt<2.0.0,>=1.10.10 in /Library/Frameworks/Python.framework/Versions/3.10/lib/python3.10/site-packages (from aiobotocore~=2.5.0->s3fs) (1.15.0)\n",
      "Requirement already satisfied: aioitertools<1.0.0,>=0.5.1 in /Library/Frameworks/Python.framework/Versions/3.10/lib/python3.10/site-packages (from aiobotocore~=2.5.0->s3fs) (0.11.0)\n",
      "Requirement already satisfied: attrs>=17.3.0 in /Library/Frameworks/Python.framework/Versions/3.10/lib/python3.10/site-packages (from aiohttp!=4.0.0a0,!=4.0.0a1->s3fs) (23.1.0)\n",
      "Requirement already satisfied: charset-normalizer<4.0,>=2.0 in /Library/Frameworks/Python.framework/Versions/3.10/lib/python3.10/site-packages (from aiohttp!=4.0.0a0,!=4.0.0a1->s3fs) (2.1.0)\n",
      "Requirement already satisfied: multidict<7.0,>=4.5 in /Library/Frameworks/Python.framework/Versions/3.10/lib/python3.10/site-packages (from aiohttp!=4.0.0a0,!=4.0.0a1->s3fs) (6.0.4)\n",
      "Requirement already satisfied: async-timeout<5.0,>=4.0.0a3 in /Library/Frameworks/Python.framework/Versions/3.10/lib/python3.10/site-packages (from aiohttp!=4.0.0a0,!=4.0.0a1->s3fs) (4.0.2)\n",
      "Requirement already satisfied: yarl<2.0,>=1.0 in /Library/Frameworks/Python.framework/Versions/3.10/lib/python3.10/site-packages (from aiohttp!=4.0.0a0,!=4.0.0a1->s3fs) (1.9.2)\n",
      "Requirement already satisfied: frozenlist>=1.1.1 in /Library/Frameworks/Python.framework/Versions/3.10/lib/python3.10/site-packages (from aiohttp!=4.0.0a0,!=4.0.0a1->s3fs) (1.4.0)\n",
      "Requirement already satisfied: aiosignal>=1.1.2 in /Library/Frameworks/Python.framework/Versions/3.10/lib/python3.10/site-packages (from aiohttp!=4.0.0a0,!=4.0.0a1->s3fs) (1.3.1)\n",
      "Requirement already satisfied: jmespath<2.0.0,>=0.7.1 in /Library/Frameworks/Python.framework/Versions/3.10/lib/python3.10/site-packages (from botocore<1.29.162,>=1.29.161->aiobotocore~=2.5.0->s3fs) (1.0.1)\n",
      "Requirement already satisfied: python-dateutil<3.0.0,>=2.1 in /Library/Frameworks/Python.framework/Versions/3.10/lib/python3.10/site-packages (from botocore<1.29.162,>=1.29.161->aiobotocore~=2.5.0->s3fs) (2.8.2)\n",
      "Requirement already satisfied: urllib3<1.27,>=1.25.4 in /Library/Frameworks/Python.framework/Versions/3.10/lib/python3.10/site-packages (from botocore<1.29.162,>=1.29.161->aiobotocore~=2.5.0->s3fs) (1.26.11)\n",
      "Requirement already satisfied: idna>=2.0 in /Library/Frameworks/Python.framework/Versions/3.10/lib/python3.10/site-packages (from yarl<2.0,>=1.0->aiohttp!=4.0.0a0,!=4.0.0a1->s3fs) (3.3)\n",
      "Requirement already satisfied: six>=1.5 in /Library/Frameworks/Python.framework/Versions/3.10/lib/python3.10/site-packages (from python-dateutil<3.0.0,>=2.1->botocore<1.29.162,>=1.29.161->aiobotocore~=2.5.0->s3fs) (1.16.0)\n",
      "Note: you may need to restart the kernel to use updated packages.\n"
     ]
    }
   ],
   "source": [
    "pip install s3fs"
   ]
  },
  {
   "cell_type": "code",
   "execution_count": 3,
   "id": "77314eaf-ef1a-4293-a16e-c13de0f7792a",
   "metadata": {},
   "outputs": [],
   "source": [
    "from kafka import KafkaConsumer\n",
    "from time import sleep\n",
    "from json import dumps,loads\n",
    "import json\n",
    "from s3fs import S3FileSystem"
   ]
  },
  {
   "cell_type": "markdown",
   "id": "8c702c46-3371-4a79-9126-d701e27971e9",
   "metadata": {},
   "source": [
    "#### Creating Consumer:"
   ]
  },
  {
   "cell_type": "code",
   "execution_count": 4,
   "id": "08b35d25-e854-4698-9d87-44cb7ed84a2c",
   "metadata": {},
   "outputs": [],
   "source": [
    "consumer=KafkaConsumer(\n",
    "    'stock_market_demo',\n",
    "    bootstrap_servers=['16.16.24.220:9092'],\n",
    "    value_deserializer=lambda x:\n",
    "    loads(x.decode('utf-8')))"
   ]
  },
  {
   "cell_type": "markdown",
   "id": "259e63ef-2666-4e11-9acc-e786c785cb16",
   "metadata": {},
   "source": [
    "#### Receiving from Producer:"
   ]
  },
  {
   "cell_type": "code",
   "execution_count": 5,
   "id": "e3df3df5-2657-45f9-a17e-9d7bc4cc1352",
   "metadata": {},
   "outputs": [],
   "source": [
    "#for c in consumer:\n",
    "#    print(c.value)"
   ]
  },
  {
   "cell_type": "markdown",
   "id": "9be6c655-4bdb-4dde-8196-7b8564dc440c",
   "metadata": {},
   "source": [
    "#### Receiving from Producer and sending the data to a S3 bucket:"
   ]
  },
  {
   "cell_type": "code",
   "execution_count": 6,
   "id": "a5a5282e-0222-4b5b-84fa-9decd5f3a378",
   "metadata": {},
   "outputs": [],
   "source": [
    "s3=S3FileSystem()"
   ]
  },
  {
   "cell_type": "code",
   "execution_count": null,
   "id": "f69417f1-f9f0-4041-b19f-562652206610",
   "metadata": {},
   "outputs": [],
   "source": [
    "for count, i in enumerate(consumer):\n",
    "    #print(count)\n",
    "    #print(i.value)\n",
    "    with s3.open(\"s3://kafka-stock-market-project-fh/stock_market_{}.json\".format(count),'w') as file:\n",
    "        json.dump(i.value,file)"
   ]
  }
 ],
 "metadata": {
  "kernelspec": {
   "display_name": "Python 3 (ipykernel)",
   "language": "python",
   "name": "python3"
  },
  "language_info": {
   "codemirror_mode": {
    "name": "ipython",
    "version": 3
   },
   "file_extension": ".py",
   "mimetype": "text/x-python",
   "name": "python",
   "nbconvert_exporter": "python",
   "pygments_lexer": "ipython3",
   "version": "3.10.6"
  }
 },
 "nbformat": 4,
 "nbformat_minor": 5
}
