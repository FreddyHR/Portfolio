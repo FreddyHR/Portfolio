{
 "cells": [
  {
   "cell_type": "markdown",
   "id": "788cfd0e-8d14-441b-b7d3-c3c9fa65ad9e",
   "metadata": {},
   "source": [
    "## Kafka Producer"
   ]
  },
  {
   "cell_type": "markdown",
   "id": "fb7b4d18-ad5d-46e2-9729-5ed0a5f48cb6",
   "metadata": {},
   "source": [
    "#### Installing packages:"
   ]
  },
  {
   "cell_type": "code",
   "execution_count": 1,
   "id": "85351a7b-3d4d-4f1a-a19c-45c7951e1c66",
   "metadata": {},
   "outputs": [
    {
     "name": "stdout",
     "output_type": "stream",
     "text": [
      "Requirement already satisfied: kafka-python in /Library/Frameworks/Python.framework/Versions/3.10/lib/python3.10/site-packages (2.0.2)\n",
      "Note: you may need to restart the kernel to use updated packages.\n"
     ]
    }
   ],
   "source": [
    "pip install kafka-python"
   ]
  },
  {
   "cell_type": "code",
   "execution_count": 2,
   "id": "75794570-7efe-4f10-b230-bfe017a096f9",
   "metadata": {},
   "outputs": [],
   "source": [
    "import pandas as pd\n",
    "from kafka import KafkaProducer\n",
    "from time import sleep\n",
    "from json import dumps\n",
    "import json"
   ]
  },
  {
   "cell_type": "markdown",
   "id": "5a7739e1-ab83-42cc-8f57-98b2a1a32bcb",
   "metadata": {},
   "source": [
    "#### Creating Producer:"
   ]
  },
  {
   "cell_type": "code",
   "execution_count": 3,
   "id": "af468e3f-7c5e-41d9-b22c-f0056c718e4f",
   "metadata": {},
   "outputs": [],
   "source": [
    "producer=KafkaProducer(bootstrap_servers=['16.16.24.220:9092'],\n",
    "                       value_serializer=lambda x:\n",
    "                       dumps(x).encode('utf-8'))\n"
   ]
  },
  {
   "cell_type": "markdown",
   "id": "e8bef3e8-64d8-4fbd-bcaf-e789e1c48855",
   "metadata": {},
   "source": [
    "#### Sending data to Consumer (Manually):"
   ]
  },
  {
   "cell_type": "code",
   "execution_count": 4,
   "id": "0dbb0352-e3a0-45ce-9036-f30bd7cd6025",
   "metadata": {},
   "outputs": [],
   "source": [
    "#producer.send('stock_market_demo',value=\"{'Hello':'world'}\")"
   ]
  },
  {
   "cell_type": "markdown",
   "id": "ebc3230b-f7ae-4916-b541-6163a3e17631",
   "metadata": {},
   "source": [
    "#### Sending data to Consumer (Automatically):"
   ]
  },
  {
   "cell_type": "markdown",
   "id": "d612d4f4-04e7-4751-925b-c067b17b09b8",
   "metadata": {},
   "source": [
    "Using a .csv file to upload stock market data into a DataFrame, then the DataFrame will be transformed to a desirable format and finally will be stored into a variable. \n",
    "\n",
    "This variable will be used to send a random value from the entire dataset to the Consumer using a while loop.\n",
    "A timeout was set to prevent zookeeper and the Kafka server from crashing."
   ]
  },
  {
   "cell_type": "code",
   "execution_count": 5,
   "id": "5e5a748f-c3ac-4852-b1a2-11e58f20a87b",
   "metadata": {},
   "outputs": [],
   "source": [
    "df=pd.read_csv('indexProcessed.csv')"
   ]
  },
  {
   "cell_type": "code",
   "execution_count": 14,
   "id": "6938fdf6-f813-442e-a294-c8bac52d1f2c",
   "metadata": {},
   "outputs": [
    {
     "ename": "KeyboardInterrupt",
     "evalue": "",
     "output_type": "error",
     "traceback": [
      "\u001b[0;31m---------------------------------------------------------------------------\u001b[0m",
      "\u001b[0;31mKeyboardInterrupt\u001b[0m                         Traceback (most recent call last)",
      "Cell \u001b[0;32mIn[14], line 4\u001b[0m\n\u001b[1;32m      2\u001b[0m dict_stock\u001b[38;5;241m=\u001b[39mdf\u001b[38;5;241m.\u001b[39msample(\u001b[38;5;241m1\u001b[39m)\u001b[38;5;241m.\u001b[39mto_dict(orient\u001b[38;5;241m=\u001b[39m\u001b[38;5;124m\"\u001b[39m\u001b[38;5;124mrecords\u001b[39m\u001b[38;5;124m\"\u001b[39m)[\u001b[38;5;241m0\u001b[39m]\n\u001b[1;32m      3\u001b[0m producer\u001b[38;5;241m.\u001b[39msend(\u001b[38;5;124m'\u001b[39m\u001b[38;5;124mstock_market_demo\u001b[39m\u001b[38;5;124m'\u001b[39m,value\u001b[38;5;241m=\u001b[39mdict_stock)\n\u001b[0;32m----> 4\u001b[0m \u001b[43msleep\u001b[49m\u001b[43m(\u001b[49m\u001b[38;5;241;43m1\u001b[39;49m\u001b[43m)\u001b[49m\n",
      "\u001b[0;31mKeyboardInterrupt\u001b[0m: "
     ]
    }
   ],
   "source": [
    "while True:\n",
    "    dict_stock=df.sample(1).to_dict(orient=\"records\")[0]\n",
    "    producer.send('stock_market_demo',value=dict_stock)\n",
    "    sleep(1)"
   ]
  },
  {
   "cell_type": "markdown",
   "id": "89859fe4-30c6-40b4-85a0-a305a2422f7e",
   "metadata": {},
   "source": [
    "#### Flushing data in the Consumer:"
   ]
  },
  {
   "cell_type": "code",
   "execution_count": 10,
   "id": "240d8896-d1d5-4603-acd2-e6e5259558df",
   "metadata": {},
   "outputs": [],
   "source": [
    "producer.flush()"
   ]
  }
 ],
 "metadata": {
  "kernelspec": {
   "display_name": "Python 3 (ipykernel)",
   "language": "python",
   "name": "python3"
  },
  "language_info": {
   "codemirror_mode": {
    "name": "ipython",
    "version": 3
   },
   "file_extension": ".py",
   "mimetype": "text/x-python",
   "name": "python",
   "nbconvert_exporter": "python",
   "pygments_lexer": "ipython3",
   "version": "3.10.6"
  }
 },
 "nbformat": 4,
 "nbformat_minor": 5
}
